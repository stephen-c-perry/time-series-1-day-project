{
 "cells": [
  {
   "cell_type": "code",
   "execution_count": 1,
   "metadata": {},
   "outputs": [],
   "source": [
    "import pandas as pd\n",
    "import matplotlib.pyplot as plt\n",
    "import seaborn as sns\n",
    "import wrangle as w\n",
    "import explore as e\n",
    "import model as m\n",
    "\n",
    "from scipy.stats import ttest_1samp\n",
    "from sklearn.metrics import mean_squared_error\n",
    "from datetime import datetime\n",
    "from sklearn.metrics import mean_squared_error\n",
    "from math import sqrt\n",
    "\n",
    "%matplotlib inline"
   ]
  },
  {
   "cell_type": "code",
   "execution_count": 2,
   "metadata": {},
   "outputs": [],
   "source": [
    "df = w.wrangle_new_york()\n",
    "train, val, test = w.split_new_york(df)\n",
    "X_train, y_train, X_val, y_val, X_test, y_test = m.X_y_modeling_split(train, val, test, 'avg_temp')\n"
   ]
  },
  {
   "cell_type": "code",
   "execution_count": 3,
   "metadata": {},
   "outputs": [],
   "source": [
    "def wrangle_new_york(): \n",
    "\n",
    "    df = pd.read_csv('GlobalLandTemperaturesByMajorCity.csv')\n",
    "    df = df[df['City'] == 'New York']\n",
    "    df = df.dropna()\n",
    "    df.dt = pd.to_datetime(df.dt)\n",
    "    df = df.rename(columns = {\n",
    "                             'dt' : 'date',\n",
    "                             'AverageTemperature': 'avg_temp',\n",
    "                             'AverageTemperatureUncertainty': 'avg_temp_uncertainty'\n",
    "                             })\n",
    "    df = df.drop(['Latitude', 'Longitude', 'Country', 'City'], axis = 1)\n",
    "    df = df.set_index('date')\n",
    "    df.index.sort_values()\n",
    "    df = df[df.index > '1923-01-01']\n",
    "    #df = df[df.index > '2000-01-01']\n",
    "    df = df.drop(columns= ['avg_temp_uncertainty'])\n",
    "\n",
    "    return df"
   ]
  },
  {
   "cell_type": "code",
   "execution_count": 4,
   "metadata": {},
   "outputs": [],
   "source": [
    "df = wrangle_new_york()"
   ]
  },
  {
   "cell_type": "code",
   "execution_count": 5,
   "metadata": {},
   "outputs": [
    {
     "data": {
      "text/html": [
       "<div>\n",
       "<style scoped>\n",
       "    .dataframe tbody tr th:only-of-type {\n",
       "        vertical-align: middle;\n",
       "    }\n",
       "\n",
       "    .dataframe tbody tr th {\n",
       "        vertical-align: top;\n",
       "    }\n",
       "\n",
       "    .dataframe thead th {\n",
       "        text-align: right;\n",
       "    }\n",
       "</style>\n",
       "<table border=\"1\" class=\"dataframe\">\n",
       "  <thead>\n",
       "    <tr style=\"text-align: right;\">\n",
       "      <th></th>\n",
       "      <th>avg_temp</th>\n",
       "    </tr>\n",
       "    <tr>\n",
       "      <th>date</th>\n",
       "      <th></th>\n",
       "    </tr>\n",
       "  </thead>\n",
       "  <tbody>\n",
       "    <tr>\n",
       "      <th>1923-02-01</th>\n",
       "      <td>-5.401</td>\n",
       "    </tr>\n",
       "    <tr>\n",
       "      <th>1923-03-01</th>\n",
       "      <td>1.233</td>\n",
       "    </tr>\n",
       "    <tr>\n",
       "      <th>1923-04-01</th>\n",
       "      <td>8.841</td>\n",
       "    </tr>\n",
       "    <tr>\n",
       "      <th>1923-05-01</th>\n",
       "      <td>14.028</td>\n",
       "    </tr>\n",
       "    <tr>\n",
       "      <th>1923-06-01</th>\n",
       "      <td>21.221</td>\n",
       "    </tr>\n",
       "    <tr>\n",
       "      <th>...</th>\n",
       "      <td>...</td>\n",
       "    </tr>\n",
       "    <tr>\n",
       "      <th>2013-05-01</th>\n",
       "      <td>15.544</td>\n",
       "    </tr>\n",
       "    <tr>\n",
       "      <th>2013-06-01</th>\n",
       "      <td>20.892</td>\n",
       "    </tr>\n",
       "    <tr>\n",
       "      <th>2013-07-01</th>\n",
       "      <td>24.722</td>\n",
       "    </tr>\n",
       "    <tr>\n",
       "      <th>2013-08-01</th>\n",
       "      <td>21.001</td>\n",
       "    </tr>\n",
       "    <tr>\n",
       "      <th>2013-09-01</th>\n",
       "      <td>17.408</td>\n",
       "    </tr>\n",
       "  </tbody>\n",
       "</table>\n",
       "<p>1088 rows × 1 columns</p>\n",
       "</div>"
      ],
      "text/plain": [
       "            avg_temp\n",
       "date                \n",
       "1923-02-01    -5.401\n",
       "1923-03-01     1.233\n",
       "1923-04-01     8.841\n",
       "1923-05-01    14.028\n",
       "1923-06-01    21.221\n",
       "...              ...\n",
       "2013-05-01    15.544\n",
       "2013-06-01    20.892\n",
       "2013-07-01    24.722\n",
       "2013-08-01    21.001\n",
       "2013-09-01    17.408\n",
       "\n",
       "[1088 rows x 1 columns]"
      ]
     },
     "execution_count": 5,
     "metadata": {},
     "output_type": "execute_result"
    }
   ],
   "source": [
    "df"
   ]
  },
  {
   "cell_type": "code",
   "execution_count": 6,
   "metadata": {},
   "outputs": [],
   "source": [
    "def rolling_avg_model(train, val):\n",
    "    period = 365\n",
    "\n",
    "    avg_temp = round(train['avg_temp'].rolling(period).mean().iloc[-1], 4)\n",
    "\n",
    "    # yhat_df = make_predictions()\n",
    "\n",
    "    yhat_df = pd.DataFrame({'avg_temp': [avg_temp]}, index = val.index)\n",
    "    yhat_df.head()\n",
    "\n",
    "    return yhat_df\n"
   ]
  },
  {
   "cell_type": "code",
   "execution_count": 7,
   "metadata": {},
   "outputs": [],
   "source": [
    "yhat_df = rolling_avg_model(train, val)"
   ]
  },
  {
   "cell_type": "code",
   "execution_count": 8,
   "metadata": {},
   "outputs": [],
   "source": [
    "#yhat_df = m.rolling_avg_model(train, val)"
   ]
  },
  {
   "cell_type": "code",
   "execution_count": 9,
   "metadata": {},
   "outputs": [
    {
     "name": "stdout",
     "output_type": "stream",
     "text": [
      "            avg_temp\n",
      "date                \n",
      "2007-09-01   10.4364\n",
      "2007-10-01   10.4364\n",
      "2007-11-01   10.4364\n",
      "2007-12-01   10.4364\n",
      "2008-01-01   10.4364\n",
      "2008-02-01   10.4364\n",
      "2008-03-01   10.4364\n",
      "2008-04-01   10.4364\n",
      "2008-05-01   10.4364\n",
      "2008-06-01   10.4364\n",
      "2008-07-01   10.4364\n",
      "2008-08-01   10.4364\n",
      "2008-09-01   10.4364\n",
      "2008-10-01   10.4364\n",
      "2008-11-01   10.4364\n",
      "2008-12-01   10.4364\n",
      "2009-01-01   10.4364\n",
      "2009-02-01   10.4364\n",
      "2009-03-01   10.4364\n",
      "2009-04-01   10.4364\n",
      "2009-05-01   10.4364\n",
      "2009-06-01   10.4364\n",
      "2009-07-01   10.4364\n",
      "2009-08-01   10.4364\n",
      "2009-09-01   10.4364\n",
      "2009-10-01   10.4364\n",
      "2009-11-01   10.4364\n",
      "2009-12-01   10.4364\n",
      "2010-01-01   10.4364\n",
      "2010-02-01   10.4364\n",
      "2010-03-01   10.4364\n",
      "2010-04-01   10.4364\n",
      "2010-05-01   10.4364\n",
      "2010-06-01   10.4364\n",
      "2010-07-01   10.4364\n",
      "2010-08-01   10.4364\n",
      "2010-09-01   10.4364\n",
      "2010-10-01   10.4364\n",
      "2010-11-01   10.4364\n",
      "2010-12-01   10.4364\n",
      "2011-01-01   10.4364\n",
      "2011-02-01   10.4364\n",
      "2011-03-01   10.4364\n",
      "2011-04-01   10.4364\n",
      "2011-05-01   10.4364\n",
      "2011-06-01   10.4364\n",
      "2011-07-01   10.4364\n",
      "2011-08-01   10.4364\n",
      "2011-09-01   10.4364\n",
      "2011-10-01   10.4364\n",
      "2011-11-01   10.4364\n",
      "2011-12-01   10.4364\n",
      "2012-01-01   10.4364\n",
      "2012-02-01   10.4364\n",
      "2012-03-01   10.4364\n",
      "2012-04-01   10.4364\n",
      "2012-05-01   10.4364\n",
      "2012-06-01   10.4364\n",
      "2012-07-01   10.4364\n",
      "2012-08-01   10.4364\n"
     ]
    }
   ],
   "source": [
    "print(yhat_df)"
   ]
  },
  {
   "cell_type": "code",
   "execution_count": 10,
   "metadata": {},
   "outputs": [],
   "source": [
    "def evaluate(target_var):\n",
    "    rmse = round(sqrt(mean_squared_error(val[target_var], yhat_df[target_var])), 0)\n",
    "    return rmse"
   ]
  },
  {
   "cell_type": "code",
   "execution_count": 11,
   "metadata": {},
   "outputs": [
    {
     "data": {
      "text/plain": [
       "9.0"
      ]
     },
     "execution_count": 11,
     "metadata": {},
     "output_type": "execute_result"
    }
   ],
   "source": [
    "evaluate('avg_temp')"
   ]
  },
  {
   "cell_type": "code",
   "execution_count": null,
   "metadata": {},
   "outputs": [],
   "source": []
  }
 ],
 "metadata": {
  "kernelspec": {
   "display_name": "base",
   "language": "python",
   "name": "python3"
  },
  "language_info": {
   "codemirror_mode": {
    "name": "ipython",
    "version": 3
   },
   "file_extension": ".py",
   "mimetype": "text/x-python",
   "name": "python",
   "nbconvert_exporter": "python",
   "pygments_lexer": "ipython3",
   "version": "3.9.13"
  },
  "orig_nbformat": 4,
  "vscode": {
   "interpreter": {
    "hash": "38cca0c38332a56087b24af0bc80247f4fced29cb4f7f437d91dc159adec9c4e"
   }
  }
 },
 "nbformat": 4,
 "nbformat_minor": 2
}
